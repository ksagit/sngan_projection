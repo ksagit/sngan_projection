{
 "cells": [
  {
   "cell_type": "code",
   "execution_count": 1,
   "metadata": {},
   "outputs": [],
   "source": [
    "import sys\n",
    "sys.path.insert(0,'/home/kyle/sn_gan_pytorch')\n",
    "sys.path.insert(0,'/home/kyle/sngan_projection')"
   ]
  },
  {
   "cell_type": "code",
   "execution_count": 2,
   "metadata": {},
   "outputs": [],
   "source": [
    "import torch\n",
    "from sn_gan_pytorch.cifar10_models import Cifar10Generator, seed_weights as torch_seed_weights\n",
    "\n",
    "gen_torch = Cifar10Generator().double().cuda()\n",
    "torch_seed_weights(gen_torch)"
   ]
  },
  {
   "cell_type": "code",
   "execution_count": 3,
   "metadata": {},
   "outputs": [
    {
     "data": {
      "text/plain": [
       "<sngan_projection.gen_models.resnet_32.ResNetGenerator at 0x7f7a15c0d1d0>"
      ]
     },
     "execution_count": 3,
     "metadata": {},
     "output_type": "execute_result"
    }
   ],
   "source": [
    "import chainer\n",
    "import numpy as np\n",
    "import cupy as xp\n",
    "\n",
    "from sngan_projection.gen_models.resnet_32 import ResNetGenerator\n",
    "from sngan_projection.train import seed_weights as chainer_seed_weights\n",
    "\n",
    "\n",
    "gen_chainer = ResNetGenerator()\n",
    "chainer_seed_weights(gen_chainer)\n",
    "gen_chainer.to_gpu(0)\n",
    "\n",
    "# print(np.sum(gen_chainer.block2.c2.b))"
   ]
  },
  {
   "cell_type": "code",
   "execution_count": 4,
   "metadata": {},
   "outputs": [],
   "source": [
    "ca = gen_torch.block_1.conv2\n",
    "cb = gen_chainer.block2.c2"
   ]
  },
  {
   "cell_type": "code",
   "execution_count": null,
   "metadata": {
    "scrolled": false
   },
   "outputs": [
    {
     "name": "stdout",
     "output_type": "stream",
     "text": [
      "15.748281587191412\n",
      "0.09099364013503387\n",
      "B0 <cupy.cuda.memory.MemoryPointer object at 0x7f7a15746990>\n",
      "C2B0 0.09099364013503387\n",
      "B1 -30.593601898355608\n",
      "C2B1 0.09099364013503387\n",
      "\t\t variable(-30.5936019)\n",
      "\t\tCL variable(0.09099364)\n",
      "\t\t variable(186.354975)\n",
      "\t\tCL variable(0.06633596)\n",
      "\t\t variable(2551.81721379)\n",
      "\t\tCL5 variable(0.06633596)\n",
      "\t\t variable(1653.53960713)\n",
      "\t\tCL5 variable(0.06633596)\n",
      "\t\t variable(745.41989999)\n",
      "\t\tCL5 variable(0.06633596)\n",
      "\t\t variable(9017.29575085)\n",
      "\t\tCL5 variable(0.06633596)\n",
      "\tRSUM variable(1393.40566602)\n",
      "\tSCSUM variable(775.70808971)\n",
      "B2 2169.1137557313127\n",
      "C2B2 0.06633595995603339\n",
      "\t\t variable(2169.11375573)\n",
      "\t\tCL variable(0.09099364)\n",
      "\t\t variable(745.41989999)\n",
      "\t\tCL variable(0.06328337)\n",
      "\t\t variable(10127.08421842)\n",
      "\t\tCL5 variable(0.06328337)\n",
      "\t\t variable(6710.92789469)\n",
      "\t\tCL5 variable(0.06328337)\n",
      "\t\t variable(2981.67959994)\n",
      "\t\tCL5 variable(0.06328337)\n",
      "\t\t variable(36002.57091987)\n",
      "\t\tCL5 variable(0.06328337)\n",
      "\tRSUM variable(5630.02302809)\n",
      "\tSCSUM variable(5344.67848413)\n",
      "B3 10974.70151221555\n",
      "C2B3 0.06633595995603339\n",
      "\t\t variable(10974.70151222)\n",
      "\t\tCL variable(0.09099364)\n",
      "\t\t variable(2981.67959994)\n",
      "\t\tCL variable(0.06546421)\n",
      "\t\t variable(36343.77648561)\n",
      "\t\tCL5 variable(0.06546421)\n",
      "\t\t variable(26441.8348585)\n",
      "\t\tCL5 variable(0.06546421)\n",
      "\t\t variable(11926.71839978)\n",
      "\t\tCL5 variable(0.06546421)\n",
      "\t\t variable(141936.70057598)\n",
      "\t\tCL5 variable(0.06546421)\n",
      "\tRSUM "
     ]
    }
   ],
   "source": [
    "np.random.seed(0)\n",
    "x = np.random.randn(128, 128)\n",
    "\n",
    "for param in cb.params():\n",
    "    print(np.sum(param.data))\n",
    "    \n",
    "with chainer.no_backprop_mode():\n",
    "    x_fake_chainer = gen_chainer(128)\n",
    "print(\"\\n\\n\")\n",
    "x_fake_torch = gen_torch(torch.from_numpy(x).cuda())\n",
    "\n",
    "for param in cb.params():\n",
    "    print(np.sum(param.data))"
   ]
  },
  {
   "cell_type": "code",
   "execution_count": null,
   "metadata": {},
   "outputs": [],
   "source": []
  }
 ],
 "metadata": {
  "kernelspec": {
   "display_name": "Python 3",
   "language": "python",
   "name": "python3"
  },
  "language_info": {
   "codemirror_mode": {
    "name": "ipython",
    "version": 3
   },
   "file_extension": ".py",
   "mimetype": "text/x-python",
   "name": "python",
   "nbconvert_exporter": "python",
   "pygments_lexer": "ipython3",
   "version": "3.6.8"
  }
 },
 "nbformat": 4,
 "nbformat_minor": 2
}
